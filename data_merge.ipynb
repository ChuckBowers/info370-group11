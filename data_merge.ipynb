{
 "cells": [
  {
   "cell_type": "code",
   "execution_count": 4,
   "metadata": {},
   "outputs": [],
   "source": [
    "import numpy as np\n",
    "import pandas as pd"
   ]
  },
  {
   "cell_type": "code",
   "execution_count": 5,
   "metadata": {},
   "outputs": [],
   "source": [
    "# Load in cleaned weather and flights data from /data\n",
    "weather = pd.read_csv('data/weather_cleaned.csv', index_col=False)\n",
    "flights = pd.read_csv('data/hourly_avg_flight_delays.csv', index_col=False)\n",
    "\n",
    "# Inner join the two dataset on the pre-made 'join_time' yyyymmddhh column\n",
    "modeling_df = weather.merge(flights, on='join_time', how='inner')\n",
    "\n",
    "# Drop rows where avg_delay == nan\n",
    "import math\n",
    "\n",
    "rows_to_drop = []\n",
    "for i in range(0, len(modeling_df.avg_delay)):\n",
    "    if math.isnan(modeling_df.avg_delay[i]):\n",
    "        rows_to_drop.append(i)\n",
    "\n",
    "modeling_df = modeling_df.drop(rows_to_drop)"
   ]
  },
  {
   "cell_type": "code",
   "execution_count": 6,
   "metadata": {},
   "outputs": [],
   "source": [
    "# Write modeling data to csv for use in statistical and machine learning modeling\n",
    "modeling_df.to_csv('data/weather_with_avg_hourly_flight_delay.csv', index=False)"
   ]
  },
  {
   "cell_type": "code",
   "execution_count": null,
   "metadata": {},
   "outputs": [],
   "source": []
  }
 ],
 "metadata": {
  "kernelspec": {
   "display_name": "Python 3",
   "language": "python",
   "name": "python3"
  },
  "language_info": {
   "codemirror_mode": {
    "name": "ipython",
    "version": 3
   },
   "file_extension": ".py",
   "mimetype": "text/x-python",
   "name": "python",
   "nbconvert_exporter": "python",
   "pygments_lexer": "ipython3",
   "version": "3.7.1"
  }
 },
 "nbformat": 4,
 "nbformat_minor": 2
}
