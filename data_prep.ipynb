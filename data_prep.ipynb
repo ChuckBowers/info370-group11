{
 "cells": [
  {
   "cell_type": "code",
   "execution_count": 17,
   "metadata": {},
   "outputs": [],
   "source": [
    "import numpy as np\n",
    "import pandas as pd\n",
    "import matplotlib.pyplot as plt\n",
    "from sklearn.model_selection import train_test_split\n",
    "\n",
    "# Loading flights data per month from csv into dataframe\n",
    "# Data from https://www.transtats.bts.gov/DL_SelectFields.asp?Table_ID=236\n",
    "# Data provided in per month blocks, selected month blocks were filtered by \n",
    "# 'Washington' i.e. all flights that arrived or departed from airports that\n",
    "# were in the database that were in Washington. Nov. 2018 is the latest flight\n",
    "# data released.\n",
    "\n",
    "dec_2017_df = pd.read_csv('data-raw/dec_2017_T_ONTIME_REPORTING.csv', index_col=False)\n",
    "jan_2018_df = pd.read_csv('data-raw/jan_2018_T_ONTIME_REPORTING.csv', index_col=False)\n",
    "feb_2018_df = pd.read_csv('data-raw/feb_2018_T_ONTIME_REPORTING.csv', index_col=False)\n",
    "mar_2018_df = pd.read_csv('data-raw/mar_2018_T_ONTIME_REPORTING.csv', index_col=False)\n",
    "apr_2018_df = pd.read_csv('data-raw/apr_2018_T_ONTIME_REPORTING.csv', index_col=False)\n",
    "may_2018_df = pd.read_csv('data-raw/may_2018_T_ONTIME_REPORTING.csv', index_col=False)\n",
    "jun_2018_df = pd.read_csv('data-raw/jun_2018_T_ONTIME_REPORTING.csv', index_col=False)\n",
    "jul_2018_df = pd.read_csv('data-raw/jul_2018_T_ONTIME_REPORTING.csv', index_col=False)\n",
    "aug_2018_df = pd.read_csv('data-raw/aug_2018_T_ONTIME_REPORTING.csv', index_col=False)\n",
    "sep_2018_df = pd.read_csv('data-raw/sep_2018_T_ONTIME_REPORTING.csv', index_col=False)\n",
    "oct_2018_df = pd.read_csv('data-raw/oct_2018_T_ONTIME_REPORTING.csv', index_col=False)\n",
    "nov_2018_df = pd.read_csv('data-raw/nov_2018_T_ONTIME_REPORTING.csv', index_col=False)"
   ]
  },
  {
   "cell_type": "code",
   "execution_count": 13,
   "metadata": {},
   "outputs": [],
   "source": [
    "# Combining separate month dataframes into one year long data frame\n",
    "flights = pd.concat([dec_2017_df, jan_2018_df, feb_2018_df, mar_2018_df, \n",
    "                     apr_2018_df, may_2018_df, jun_2018_df, jul_2018_df,\n",
    "                     aug_2018_df, sep_2018_df, oct_2018_df, nov_2018_df])"
   ]
  },
  {
   "cell_type": "code",
   "execution_count": 31,
   "metadata": {},
   "outputs": [],
   "source": [
    "# Load in weather data from https://www.ncdc.noaa.gov/cdo-web/datatools/lcd\n",
    "weather_2018 = pd.read_csv('data-raw/weather_2018.csv', index_col=False) # data for all of 2018\n",
    "weather_dec_2017 = pd.read_csv('data-raw/weather_dec_2017.csv', index_col=False) # data for December 2017\n",
    "\n",
    "# Combine into one dataframe for weather for Dec 2017 - November 2018\n",
    "weather = pd.concat([weather_dec_2017, weather_2018])"
   ]
  },
  {
   "cell_type": "code",
   "execution_count": 24,
   "metadata": {},
   "outputs": [
    {
     "name": "stdout",
     "output_type": "stream",
     "text": [
      "YEAR                       int64\n",
      "QUARTER                    int64\n",
      "MONTH                      int64\n",
      "DAY_OF_MONTH               int64\n",
      "DAY_OF_WEEK                int64\n",
      "FL_DATE                   object\n",
      "OP_UNIQUE_CARRIER         object\n",
      "ORIGIN_AIRPORT_ID          int64\n",
      "ORIGIN_AIRPORT_SEQ_ID      int64\n",
      "ORIGIN_CITY_MARKET_ID      int64\n",
      "ORIGIN                    object\n",
      "ORIGIN_CITY_NAME          object\n",
      "DEST_AIRPORT_ID            int64\n",
      "DEST_AIRPORT_SEQ_ID        int64\n",
      "DEST_CITY_MARKET_ID        int64\n",
      "DEST                      object\n",
      "DEST_CITY_NAME            object\n",
      "CRS_DEP_TIME               int64\n",
      "DEP_TIME                 float64\n",
      "DEP_DELAY                float64\n",
      "DEP_DELAY_NEW            float64\n",
      "DEP_DEL15                float64\n",
      "CANCELLED                float64\n",
      "DIVERTED                 float64\n",
      "AIR_TIME                 float64\n",
      "DISTANCE                 float64\n",
      "CARRIER_DELAY            float64\n",
      "WEATHER_DELAY            float64\n",
      "NAS_DELAY                float64\n",
      "SECURITY_DELAY           float64\n",
      "LATE_AIRCRAFT_DELAY      float64\n",
      "Unnamed: 31              float64\n",
      "dtype: object\n",
      "Index(['YEAR', 'QUARTER', 'MONTH', 'DAY_OF_MONTH', 'DAY_OF_WEEK', 'FL_DATE',\n",
      "       'OP_UNIQUE_CARRIER', 'ORIGIN_AIRPORT_ID', 'ORIGIN_AIRPORT_SEQ_ID',\n",
      "       'ORIGIN_CITY_MARKET_ID', 'ORIGIN', 'ORIGIN_CITY_NAME',\n",
      "       'DEST_AIRPORT_ID', 'DEST_AIRPORT_SEQ_ID', 'DEST_CITY_MARKET_ID', 'DEST',\n",
      "       'DEST_CITY_NAME', 'CRS_DEP_TIME', 'DEP_TIME', 'DEP_DELAY',\n",
      "       'DEP_DELAY_NEW', 'DEP_DEL15', 'CANCELLED', 'DIVERTED', 'AIR_TIME',\n",
      "       'DISTANCE', 'CARRIER_DELAY', 'WEATHER_DELAY', 'NAS_DELAY',\n",
      "       'SECURITY_DELAY', 'LATE_AIRCRAFT_DELAY'],\n",
      "      dtype='object')\n"
     ]
    }
   ],
   "source": [
    "# Check column data types\n",
    "print(flights.dtypes)\n",
    "\n",
    "# I notice a column that wasn't described as in the dataset on the BTS website so I drop it\n",
    "flights = flights.drop('Unnamed: 31', axis = 1)\n",
    "\n",
    "# Double check it's dropped\n",
    "print(flights.columns)"
   ]
  },
  {
   "cell_type": "code",
   "execution_count": 26,
   "metadata": {},
   "outputs": [
    {
     "data": {
      "text/plain": [
       "0        2116.0\n",
       "1        2154.0\n",
       "2        2043.0\n",
       "3        2053.0\n",
       "4        2052.0\n",
       "5        2103.0\n",
       "6        2051.0\n",
       "7        2043.0\n",
       "8        2102.0\n",
       "9        2036.0\n",
       "10       2044.0\n",
       "11       2101.0\n",
       "12       2054.0\n",
       "13       2056.0\n",
       "14       2117.0\n",
       "15       2224.0\n",
       "16       2219.0\n",
       "17       2224.0\n",
       "18       2225.0\n",
       "19       2239.0\n",
       "20       2229.0\n",
       "21       2232.0\n",
       "22       2221.0\n",
       "23       2226.0\n",
       "24       2225.0\n",
       "25       2228.0\n",
       "26       2228.0\n",
       "27       2227.0\n",
       "28       2227.0\n",
       "29       2225.0\n",
       "          ...  \n",
       "23469    1701.0\n",
       "23470     725.0\n",
       "23471    1906.0\n",
       "23472     636.0\n",
       "23473    1644.0\n",
       "23474     657.0\n",
       "23475     934.0\n",
       "23476     820.0\n",
       "23477     839.0\n",
       "23478    1244.0\n",
       "23479    2240.0\n",
       "23480    1726.0\n",
       "23481    1724.0\n",
       "23482     746.0\n",
       "23483     730.0\n",
       "23484    1419.0\n",
       "23485    1037.0\n",
       "23486    2021.0\n",
       "23487    1252.0\n",
       "23488    1258.0\n",
       "23489    1917.0\n",
       "23490    1108.0\n",
       "23491    1939.0\n",
       "23492    1741.0\n",
       "23493    1917.0\n",
       "23494    1822.0\n",
       "23495    1838.0\n",
       "23496    2356.0\n",
       "23497    2108.0\n",
       "23498     902.0\n",
       "Name: DEP_TIME, Length: 307531, dtype: float64"
      ]
     },
     "execution_count": 26,
     "metadata": {},
     "output_type": "execute_result"
    }
   ],
   "source": [
    "flights.DEP_TIME"
   ]
  },
  {
   "cell_type": "code",
   "execution_count": null,
   "metadata": {},
   "outputs": [],
   "source": []
  }
 ],
 "metadata": {
  "kernelspec": {
   "display_name": "Python 3",
   "language": "python",
   "name": "python3"
  }
 },
 "nbformat": 4,
 "nbformat_minor": 2
}
