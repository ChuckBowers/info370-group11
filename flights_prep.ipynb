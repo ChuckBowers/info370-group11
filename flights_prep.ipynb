{
 "cells": [
  {
   "cell_type": "code",
   "execution_count": 72,
   "metadata": {},
   "outputs": [],
   "source": [
    "import numpy as np\n",
    "import pandas as pd\n",
    "\n",
    "# Loading flights data per month from csv into dataframe\n",
    "# Data from https://www.transtats.bts.gov/DL_SelectFields.asp?Table_ID=236\n",
    "# Data provided in per month blocks, selected month blocks were filtered by \n",
    "# 'Washington' i.e. all flights that arrived or departed from airports that\n",
    "# were in the database that were in Washington. Nov. 2018 is the latest flight\n",
    "# data released.\n",
    "dec_2017_df = pd.read_csv('data-raw/dec_2017_T_ONTIME_REPORTING.csv', index_col=False)\n",
    "jan_2018_df = pd.read_csv('data-raw/jan_2018_T_ONTIME_REPORTING.csv', index_col=False)\n",
    "feb_2018_df = pd.read_csv('data-raw/feb_2018_T_ONTIME_REPORTING.csv', index_col=False)\n",
    "mar_2018_df = pd.read_csv('data-raw/mar_2018_T_ONTIME_REPORTING.csv', index_col=False)\n",
    "apr_2018_df = pd.read_csv('data-raw/apr_2018_T_ONTIME_REPORTING.csv', index_col=False)\n",
    "may_2018_df = pd.read_csv('data-raw/may_2018_T_ONTIME_REPORTING.csv', index_col=False)\n",
    "jun_2018_df = pd.read_csv('data-raw/jun_2018_T_ONTIME_REPORTING.csv', index_col=False)\n",
    "jul_2018_df = pd.read_csv('data-raw/jul_2018_T_ONTIME_REPORTING.csv', index_col=False)\n",
    "aug_2018_df = pd.read_csv('data-raw/aug_2018_T_ONTIME_REPORTING.csv', index_col=False)\n",
    "sep_2018_df = pd.read_csv('data-raw/sep_2018_T_ONTIME_REPORTING.csv', index_col=False)\n",
    "oct_2018_df = pd.read_csv('data-raw/oct_2018_T_ONTIME_REPORTING.csv', index_col=False)\n",
    "nov_2018_df = pd.read_csv('data-raw/nov_2018_T_ONTIME_REPORTING.csv', index_col=False)"
   ]
  },
  {
   "cell_type": "code",
   "execution_count": 73,
   "metadata": {},
   "outputs": [],
   "source": [
    "# Combining separate month dataframes into one year long data frame\n",
    "flights = pd.concat([dec_2017_df, jan_2018_df, feb_2018_df, mar_2018_df, \n",
    "                     apr_2018_df, may_2018_df, jun_2018_df, jul_2018_df,\n",
    "                     aug_2018_df, sep_2018_df, oct_2018_df, nov_2018_df])"
   ]
  },
  {
   "cell_type": "code",
   "execution_count": 74,
   "metadata": {},
   "outputs": [],
   "source": [
    "# Load in weather data from https://www.ncdc.noaa.gov/cdo-web/datatools/lcd\n",
    "weather_2018 = pd.read_csv('data-raw/weather_2018.csv', index_col=False) # data for all of 2018\n",
    "weather_dec_2017 = pd.read_csv('data-raw/weather_dec_2017.csv', index_col=False) # data for December 2017\n",
    "\n",
    "# Combine into one dataframe for weather for Dec 2017 - November 2018\n",
    "weather = pd.concat([weather_dec_2017, weather_2018])"
   ]
  },
  {
   "cell_type": "code",
   "execution_count": 24,
   "metadata": {},
   "outputs": [
    {
     "name": "stdout",
     "output_type": "stream",
     "text": [
      "YEAR                       int64\n",
      "QUARTER                    int64\n",
      "MONTH                      int64\n",
      "DAY_OF_MONTH               int64\n",
      "DAY_OF_WEEK                int64\n",
      "FL_DATE                   object\n",
      "OP_UNIQUE_CARRIER         object\n",
      "ORIGIN_AIRPORT_ID          int64\n",
      "ORIGIN_AIRPORT_SEQ_ID      int64\n",
      "ORIGIN_CITY_MARKET_ID      int64\n",
      "ORIGIN                    object\n",
      "ORIGIN_CITY_NAME          object\n",
      "DEST_AIRPORT_ID            int64\n",
      "DEST_AIRPORT_SEQ_ID        int64\n",
      "DEST_CITY_MARKET_ID        int64\n",
      "DEST                      object\n",
      "DEST_CITY_NAME            object\n",
      "CRS_DEP_TIME               int64\n",
      "DEP_TIME                 float64\n",
      "DEP_DELAY                float64\n",
      "DEP_DELAY_NEW            float64\n",
      "DEP_DEL15                float64\n",
      "CANCELLED                float64\n",
      "DIVERTED                 float64\n",
      "AIR_TIME                 float64\n",
      "DISTANCE                 float64\n",
      "CARRIER_DELAY            float64\n",
      "WEATHER_DELAY            float64\n",
      "NAS_DELAY                float64\n",
      "SECURITY_DELAY           float64\n",
      "LATE_AIRCRAFT_DELAY      float64\n",
      "Unnamed: 31              float64\n",
      "dtype: object\n",
      "Index(['YEAR', 'QUARTER', 'MONTH', 'DAY_OF_MONTH', 'DAY_OF_WEEK', 'FL_DATE',\n",
      "       'OP_UNIQUE_CARRIER', 'ORIGIN_AIRPORT_ID', 'ORIGIN_AIRPORT_SEQ_ID',\n",
      "       'ORIGIN_CITY_MARKET_ID', 'ORIGIN', 'ORIGIN_CITY_NAME',\n",
      "       'DEST_AIRPORT_ID', 'DEST_AIRPORT_SEQ_ID', 'DEST_CITY_MARKET_ID', 'DEST',\n",
      "       'DEST_CITY_NAME', 'CRS_DEP_TIME', 'DEP_TIME', 'DEP_DELAY',\n",
      "       'DEP_DELAY_NEW', 'DEP_DEL15', 'CANCELLED', 'DIVERTED', 'AIR_TIME',\n",
      "       'DISTANCE', 'CARRIER_DELAY', 'WEATHER_DELAY', 'NAS_DELAY',\n",
      "       'SECURITY_DELAY', 'LATE_AIRCRAFT_DELAY'],\n",
      "      dtype='object')\n"
     ]
    }
   ],
   "source": [
    "# Check column data types\n",
    "print(flights.dtypes)\n",
    "\n",
    "# I notice a column that wasn't described as in the dataset on the BTS website so I drop it\n",
    "flights = flights.drop('Unnamed: 31', axis = 1)\n",
    "\n",
    "# Double check it's dropped\n",
    "print(flights.columns)"
   ]
  },
  {
   "cell_type": "code",
   "execution_count": 71,
   "metadata": {},
   "outputs": [],
   "source": [
    "# Find flights only leaving SeaTac\n",
    "flights = flights[flights.ORIGIN == 'SEA']"
   ]
  },
  {
   "cell_type": "code",
   "execution_count": 137,
   "metadata": {},
   "outputs": [],
   "source": [
    "# Create new series that represents the hour a flight happened in\n",
    "dep_times = flights.CRS_DEP_TIME.apply(str)\n",
    "hours = []\n",
    "for time in dep_times:\n",
    "    if len(time) == 1 or len(time) == 2:\n",
    "        hours.append('00')\n",
    "    elif len(time) == 3:\n",
    "        hours.append('0' + time[0])\n",
    "    else:\n",
    "        hours.append(time[:2])\n",
    "\n",
    "# Create new series for day of month in dd format\n",
    "day_of_month = flights.DAY_OF_MONTH.apply(str)\n",
    "days = []\n",
    "for day in day_of_month:\n",
    "    if len(day) == 1:\n",
    "        days.append('0' + day)\n",
    "    else:\n",
    "        days.append(day)\n",
    "\n",
    "# Create new series for month in mm format\n",
    "month = flights.MONTH.apply(str)\n",
    "months = []\n",
    "for m in month:\n",
    "    if len(m) == 1:\n",
    "        months.append('0' + m)\n",
    "    else:\n",
    "        months.append(m)\n",
    "\n",
    "# Create new variable in format yyyymmddhh to allow join with weather data\n",
    "flights['join_time'] = flights.YEAR.apply(str) + months + days + hours\n",
    "\n",
    "# Change 'join_time' type to int64\n",
    "flights.join_time.astype('int64')"
   ]
  },
  {
   "cell_type": "code",
   "execution_count": 187,
   "metadata": {},
   "outputs": [],
   "source": [
    "# Get the join_time value for each hour\n",
    "join_time = list(flights.groupby('join_time').groups.keys())\n",
    "\n",
    "# Compute the average flight delay for each join_time hour\n",
    "avg_delay = flights.groupby('join_time')['DEP_DELAY'].aggregate('mean')\n",
    "\n",
    "# Create a dataframe with the join_time and avg_delay\n",
    "flight_delays = pd.DataFrame({'join_time':join_time,\n",
    "                              'avg_delay':list(avg_delay)})"
   ]
  },
  {
   "cell_type": "code",
   "execution_count": 191,
   "metadata": {},
   "outputs": [],
   "source": [
    "# Save to .csv to use to combine with weather data\n",
    "flight_delays.to_csv('data/hourly_avg_flight_delays.csv', index=False)"
   ]
  }
 ],
 "metadata": {
  "kernelspec": {
   "display_name": "Python 3",
   "language": "python",
   "name": "python3"
  }
 },
 "nbformat": 4,
 "nbformat_minor": 2
}
