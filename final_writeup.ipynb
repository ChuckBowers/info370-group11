{
 "cells": [
  {
   "cell_type": "markdown",
   "metadata": {},
   "source": [
    "# Modeling the Effect of Weather on Flight Delays at SeaTac\n",
    "### Authors: Beichen Liang, Max Zhou, Vanely Ruiz, and Will Bowers"
   ]
  },
  {
   "cell_type": "markdown",
   "metadata": {},
   "source": [
    "## Problem Overview\n",
    "\n",
    "For our final project, we are trying to answer what effect, if any, the weather has on outgoing flights. More specifically we are interested in the weather in Seattle and its effect on flights leaving SeaTac. We believe this to be an important topic as thousands of people fly through Seattle everyday, and as all of us as residents know Seattle's weather can be both variable and rainy. We hope to inform both the populace of Seattle that travels and the organization of SeaTac with this information, with the idea that travelers can their flights better and SeaTac can analyze and improve their systems to respond better to weather delays.\n",
    "\n",
    "Flight delays can have costly consequences. It is estimated that in the U.S. alone, flight delays have a 40.7 billion dollar impact. Additionally, all of that time planes spend on the tarmac results in excess fuel being used and more emissions being released (Fleurquin). Flight delays also result in significant disruptions to aviation safety and the decreased traffic results in losses for the airlines (Gao, 68). Flight delays also cause passengers to prefer other airlines if they experience delays with a certain carrier (Tae-Hwee Lee, 277). Causes of flight delays can range from the unpreventable, severe weather (Gao, 68), to the preventable, crew mishaps and flight order rotation (Fleurquin).\n",
    "\n",
    "The specific question we hope to answer with this data is, __given a particular day at SeaTac International Airport, can we predict the average departure delay for all flights based upon the weather?__ For the purposes of statistical modeling, which we'll cover later, our null hypothesis would be: _there is no relationship between the average daily departure delay at SeaTac and the weather at SeaTac_. Conversely, our alternative hypothesis would be: _there is a relationship between the average daily departure delay at SeaTac and the weather at SeaTac._ Through exploring our data with statistical models, we will be able to either accept or reject our null hypothesis. \n",
    "\n",
    "![title](img/plane_departing_seatac.jpg)\n",
    "<i><center>Plane Departing SeaTac</center></i>\n",
    "<i><center>Image courtesy of https://news.theregistryps.com/with-growing-region-seatac-prepares-for-expansion/</center></i>"
   ]
  },
  {
   "cell_type": "markdown",
   "metadata": {},
   "source": [
    "## Data Preparation\n",
    "\n",
    "For this project we used two data sets: __weather data__ gather by the National Center for Environmental Information (NOAA) and __flight data__ gathered by the Bureau of Transportation Statistics. \n",
    "\n",
    "\n",
    "### Weather Data\n",
    "\n",
    "We used Local Climatological Data gathered by the National Center for Environmental Information (NOAA) as the data source for our project. This dataset includes hourly observations made at SeaTac during Dec. 1, 2017 to Nov. 30, 2018 to match the duration of our flight data. [The source for our data can be found here](https://www.ncdc.noaa.gov/cdo-web/datatools/lcd)\n",
    "\n",
    "The raw weather data presented several challenges to our analysis. \n",
    "\n",
    "Many columns were dominated by null values, though such columns tend to be trivial measurements that are rarely taken by the weather station. We ended up selecting 15 different weather metrics from the dataset which we think would provide a full picture of the weather conditions that might affect flight delays.\n",
    "\n",
    "Among the observations we selected, some columns are in formats other than floats that our machine learning process can work with. \n",
    "\n",
    "Specifically, some columns with numeric values sometimes contain special characters to denote special conditions. For example, the hourly precipitation columns occasionally use the letter \"T\" to indicate a trace amount of rain that can't be accurately measured. Because the appearance of such values are rare and they can be practically regarded as 0 rainfall, we decided to convert any non-numeric values in those columns to null to be later imputed using forward-filling.\n",
    "\n",
    "Some columns like \"hourly pressure change\" use null values to indicate the absence of any changes. This is deduced from the fact that those values are either non-zero numbers or NaN. We filled those NaN values with 0.\n",
    "\n",
    "There are columns that need to be transformed to new features. The \"hourly sky conditions\" column contains strings such as \"FEW:02 38 BKN:07 190\" to describe certain sky conditions. According to the dataset documentation, the two-digit number like \"02\" and \"07\" can indicate the thickness of the clouds. We simplified this feature into dummie columns \"cloud_0\" for no or light cloud, and \"cloud_1\" for heavily clouded conditions. \n",
    "\n",
    "The \"hourly wind direction\" expresses wind direction in 360 degrees. We think that the wind direction could be an important factor for flights, but we only need a categorical variable that indicates an approximate direction. So we converted the degrees to north, east, south or west, and created dummie column for each.\n",
    "\n",
    "As mentioned previously, we used forward-filling to handle any null values we had remaining in the dataset. Forward-filling is a process in which the previous entry for that particular feature is used to fill the null value. Forward-filling is useful in cases where the data is on a time scale, as the assumption being made is the weather one hour has a high likelihood as being the same as the previous hour.\n",
    "\n",
    "### Flight data\n",
    "\n"
   ]
  },
  {
   "cell_type": "markdown",
   "metadata": {},
   "source": [
    "## Exploratory Data Analysis\n",
    "\n"
   ]
  },
  {
   "cell_type": "markdown",
   "metadata": {},
   "source": [
    "## Statistical Modeling"
   ]
  },
  {
   "cell_type": "markdown",
   "metadata": {},
   "source": []
  },
  {
   "cell_type": "markdown",
   "metadata": {},
   "source": [
    "## Interpretation"
   ]
  },
  {
   "cell_type": "markdown",
   "metadata": {},
   "source": []
  },
  {
   "cell_type": "markdown",
   "metadata": {},
   "source": [
    "## Works Cited"
   ]
  },
  {
   "cell_type": "markdown",
   "metadata": {},
   "source": [
    "“A Simple Formula for Estimating Evaporation Rates in Various Climates, <br> \n",
    "&emsp;Using Temperature Data Alone.” NeuroImage, Academic Press, 14 May 2003, <br>\n",
    "&emsp;www.sciencedirect.com/science/article/pii/0002157177900073?via=ihub.\n",
    "\n",
    "“Dengue Fever.” Mayo Clinic, Mayo Foundation for Medical Education and <br>\n",
    "&emsp;Research, 16 Feb. 2018, www.mayoclinic.org/diseases-conditions/dengue-<br>\n",
    "&emsp;fever/symptoms-causes/syc-20353078.\n",
    "    \n",
    "“Entomology & Ecology | Dengue | CDC.” Centers for Disease Control and <br>\n",
    "&emsp;Prevention, Centers for Disease Control and Prevention, 15 Jan. 2019, <br>\n",
    "&emsp;www.cdc.gov/dengue/entomologyecology/index.html.\n",
    "\n",
    "“Frequently Asked Questions | Dengue | CDC.” Centers for Disease Control and <br>\n",
    "&emsp;Prevention, Centers for Disease Control and Prevention, 15 Jan. 2019, <br>\n",
    "&emsp;www.cdc.gov/dengue/faqfacts/index.html.\n",
    "    \n",
    "“Single Imputation Methods.” Iris Eekhout | Missing Data, <br>\n",
    "&emsp;www.iriseekhout.com/missing-data/missing-data-methods/imputation <br>\n",
    "&emsp;methods/.\n",
    "    \n",
    "“Zika Virus.” Centers for Disease Control and Prevention, Centers for <br>\n",
    "&emsp;Disease Control and Prevention, 23 Feb. 2018, <br>\n",
    "&emsp;www.cdc.gov/zika/vector/range.html."
   ]
  }
 ],
 "metadata": {
  "kernelspec": {
   "display_name": "Python 3",
   "language": "python",
   "name": "python3"
  },
  "language_info": {
   "codemirror_mode": {
    "name": "ipython",
    "version": 3
   },
   "file_extension": ".py",
   "mimetype": "text/x-python",
   "name": "python",
   "nbconvert_exporter": "python",
   "pygments_lexer": "ipython3",
   "version": "3.7.1"
  }
 },
 "nbformat": 4,
 "nbformat_minor": 2
}
