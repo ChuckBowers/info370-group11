{
 "cells": [
  {
   "cell_type": "code",
   "execution_count": 1,
   "metadata": {},
   "outputs": [
    {
     "data": {
      "text/html": [
       "<div>\n",
       "<style scoped>\n",
       "    .dataframe tbody tr th:only-of-type {\n",
       "        vertical-align: middle;\n",
       "    }\n",
       "\n",
       "    .dataframe tbody tr th {\n",
       "        vertical-align: top;\n",
       "    }\n",
       "\n",
       "    .dataframe thead th {\n",
       "        text-align: right;\n",
       "    }\n",
       "</style>\n",
       "<table border=\"1\" class=\"dataframe\">\n",
       "  <thead>\n",
       "    <tr style=\"text-align: right;\">\n",
       "      <th></th>\n",
       "      <th>DATE</th>\n",
       "      <th>HourlyAltimeterSetting</th>\n",
       "      <th>HourlyDewPointTemperature</th>\n",
       "      <th>HourlyDryBulbTemperature</th>\n",
       "      <th>HourlySeaLevelPressure</th>\n",
       "      <th>HourlyStationPressure</th>\n",
       "      <th>HourlyPressureChange</th>\n",
       "      <th>HourlyPressureTendency</th>\n",
       "      <th>HourlyVisibility</th>\n",
       "      <th>HourlyWindSpeed</th>\n",
       "      <th>...</th>\n",
       "      <th>HourlyRelativeHumidity</th>\n",
       "      <th>REPORT_TYPE</th>\n",
       "      <th>cloud_1</th>\n",
       "      <th>cloud_0</th>\n",
       "      <th>wind_north</th>\n",
       "      <th>wind_east</th>\n",
       "      <th>wind_south</th>\n",
       "      <th>wind_west</th>\n",
       "      <th>join_time</th>\n",
       "      <th>avg_delay</th>\n",
       "    </tr>\n",
       "  </thead>\n",
       "  <tbody>\n",
       "    <tr>\n",
       "      <th>0</th>\n",
       "      <td>2017-12-01T00:53:00</td>\n",
       "      <td>30.14</td>\n",
       "      <td>40.0</td>\n",
       "      <td>45.0</td>\n",
       "      <td>30.16</td>\n",
       "      <td>29.67</td>\n",
       "      <td>-0.00</td>\n",
       "      <td>3.0</td>\n",
       "      <td>10.0</td>\n",
       "      <td>13.0</td>\n",
       "      <td>...</td>\n",
       "      <td>83.0</td>\n",
       "      <td>FM-15</td>\n",
       "      <td>0</td>\n",
       "      <td>1</td>\n",
       "      <td>0</td>\n",
       "      <td>0</td>\n",
       "      <td>1</td>\n",
       "      <td>0</td>\n",
       "      <td>2017120100</td>\n",
       "      <td>-6.600000</td>\n",
       "    </tr>\n",
       "    <tr>\n",
       "      <th>1</th>\n",
       "      <td>2017-12-01T01:53:00</td>\n",
       "      <td>30.13</td>\n",
       "      <td>39.0</td>\n",
       "      <td>44.0</td>\n",
       "      <td>30.16</td>\n",
       "      <td>29.66</td>\n",
       "      <td>0.00</td>\n",
       "      <td>0.0</td>\n",
       "      <td>10.0</td>\n",
       "      <td>10.0</td>\n",
       "      <td>...</td>\n",
       "      <td>83.0</td>\n",
       "      <td>FM-15</td>\n",
       "      <td>0</td>\n",
       "      <td>1</td>\n",
       "      <td>0</td>\n",
       "      <td>0</td>\n",
       "      <td>1</td>\n",
       "      <td>0</td>\n",
       "      <td>2017120101</td>\n",
       "      <td>-10.000000</td>\n",
       "    </tr>\n",
       "    <tr>\n",
       "      <th>2</th>\n",
       "      <td>2017-12-01T05:53:00</td>\n",
       "      <td>30.08</td>\n",
       "      <td>36.0</td>\n",
       "      <td>42.0</td>\n",
       "      <td>30.10</td>\n",
       "      <td>29.61</td>\n",
       "      <td>0.00</td>\n",
       "      <td>0.0</td>\n",
       "      <td>10.0</td>\n",
       "      <td>10.0</td>\n",
       "      <td>...</td>\n",
       "      <td>79.0</td>\n",
       "      <td>FM-15</td>\n",
       "      <td>0</td>\n",
       "      <td>1</td>\n",
       "      <td>0</td>\n",
       "      <td>0</td>\n",
       "      <td>1</td>\n",
       "      <td>0</td>\n",
       "      <td>2017120105</td>\n",
       "      <td>-3.160000</td>\n",
       "    </tr>\n",
       "    <tr>\n",
       "      <th>3</th>\n",
       "      <td>2017-12-01T06:53:00</td>\n",
       "      <td>30.07</td>\n",
       "      <td>35.0</td>\n",
       "      <td>39.0</td>\n",
       "      <td>30.09</td>\n",
       "      <td>29.60</td>\n",
       "      <td>0.04</td>\n",
       "      <td>6.0</td>\n",
       "      <td>10.0</td>\n",
       "      <td>8.0</td>\n",
       "      <td>...</td>\n",
       "      <td>86.0</td>\n",
       "      <td>FM-15</td>\n",
       "      <td>0</td>\n",
       "      <td>1</td>\n",
       "      <td>0</td>\n",
       "      <td>0</td>\n",
       "      <td>1</td>\n",
       "      <td>0</td>\n",
       "      <td>2017120106</td>\n",
       "      <td>1.187500</td>\n",
       "    </tr>\n",
       "    <tr>\n",
       "      <th>4</th>\n",
       "      <td>2017-12-01T07:53:00</td>\n",
       "      <td>30.06</td>\n",
       "      <td>36.0</td>\n",
       "      <td>41.0</td>\n",
       "      <td>30.09</td>\n",
       "      <td>29.59</td>\n",
       "      <td>0.00</td>\n",
       "      <td>0.0</td>\n",
       "      <td>10.0</td>\n",
       "      <td>7.0</td>\n",
       "      <td>...</td>\n",
       "      <td>82.0</td>\n",
       "      <td>FM-15</td>\n",
       "      <td>1</td>\n",
       "      <td>0</td>\n",
       "      <td>0</td>\n",
       "      <td>0</td>\n",
       "      <td>1</td>\n",
       "      <td>0</td>\n",
       "      <td>2017120107</td>\n",
       "      <td>4.147541</td>\n",
       "    </tr>\n",
       "  </tbody>\n",
       "</table>\n",
       "<p>5 rows × 24 columns</p>\n",
       "</div>"
      ],
      "text/plain": [
       "                  DATE  HourlyAltimeterSetting  HourlyDewPointTemperature  \\\n",
       "0  2017-12-01T00:53:00                   30.14                       40.0   \n",
       "1  2017-12-01T01:53:00                   30.13                       39.0   \n",
       "2  2017-12-01T05:53:00                   30.08                       36.0   \n",
       "3  2017-12-01T06:53:00                   30.07                       35.0   \n",
       "4  2017-12-01T07:53:00                   30.06                       36.0   \n",
       "\n",
       "   HourlyDryBulbTemperature  HourlySeaLevelPressure  HourlyStationPressure  \\\n",
       "0                      45.0                   30.16                  29.67   \n",
       "1                      44.0                   30.16                  29.66   \n",
       "2                      42.0                   30.10                  29.61   \n",
       "3                      39.0                   30.09                  29.60   \n",
       "4                      41.0                   30.09                  29.59   \n",
       "\n",
       "   HourlyPressureChange  HourlyPressureTendency  HourlyVisibility  \\\n",
       "0                 -0.00                     3.0              10.0   \n",
       "1                  0.00                     0.0              10.0   \n",
       "2                  0.00                     0.0              10.0   \n",
       "3                  0.04                     6.0              10.0   \n",
       "4                  0.00                     0.0              10.0   \n",
       "\n",
       "   HourlyWindSpeed    ...     HourlyRelativeHumidity  REPORT_TYPE  cloud_1  \\\n",
       "0             13.0    ...                       83.0        FM-15        0   \n",
       "1             10.0    ...                       83.0        FM-15        0   \n",
       "2             10.0    ...                       79.0        FM-15        0   \n",
       "3              8.0    ...                       86.0        FM-15        0   \n",
       "4              7.0    ...                       82.0        FM-15        1   \n",
       "\n",
       "   cloud_0  wind_north wind_east  wind_south  wind_west   join_time  avg_delay  \n",
       "0        1           0         0           1          0  2017120100  -6.600000  \n",
       "1        1           0         0           1          0  2017120101 -10.000000  \n",
       "2        1           0         0           1          0  2017120105  -3.160000  \n",
       "3        1           0         0           1          0  2017120106   1.187500  \n",
       "4        0           0         0           1          0  2017120107   4.147541  \n",
       "\n",
       "[5 rows x 24 columns]"
      ]
     },
     "execution_count": 1,
     "metadata": {},
     "output_type": "execute_result"
    }
   ],
   "source": [
    "import pandas as pd\n",
    "import matplotlib.pyplot as plt\n",
    "import numpy as np\n",
    "import statsmodels.formula.api as smf\n",
    "import statsmodels.api as sm\n",
    "from sklearn.model_selection import train_test_split\n",
    "df = pd.read_csv(\"./data/weather_with_avg_hourly_flight_delay.csv\")\n",
    "delay = df.copy()\n",
    "delay.head()"
   ]
  },
  {
   "cell_type": "code",
   "execution_count": 2,
   "metadata": {},
   "outputs": [],
   "source": [
    "delay.drop(['HourlySkyConditions', 'REPORT_TYPE', 'join_time','DATE'], axis=1, inplace=True)"
   ]
  },
  {
   "cell_type": "code",
   "execution_count": 3,
   "metadata": {},
   "outputs": [],
   "source": [
    "train_features, test_features, train_outcome, test_outcome = train_test_split(\n",
    "    delay.drop(\"avg_delay\", axis=1),      # features\n",
    "    delay.avg_delay,    # outcome\n",
    "    test_size=0.30, # percentage of data to use as the test set\n",
    "    random_state=11\n",
    ")"
   ]
  },
  {
   "cell_type": "code",
   "execution_count": 4,
   "metadata": {},
   "outputs": [],
   "source": [
    "from sklearn import linear_model\n",
    "from sklearn.preprocessing import PolynomialFeatures\n",
    "from sklearn.metrics import mean_squared_error"
   ]
  },
  {
   "cell_type": "code",
   "execution_count": 5,
   "metadata": {},
   "outputs": [
    {
     "name": "stdout",
     "output_type": "stream",
     "text": [
      "n=1, MSE = 165.95\n",
      "n=2, MSE = 161.34\n",
      "n=3, MSE = 3224.6\n"
     ]
    }
   ],
   "source": [
    "score_min = 99999\n",
    "for order in range(1, 4):\n",
    "    poly = PolynomialFeatures(degree = order)\n",
    "    regr = linear_model.LinearRegression()\n",
    "    new_train = poly.fit_transform(train_features)\n",
    "    regr.fit(new_train, train_outcome)       \n",
    "    new_test = poly.fit_transform(test_features)\n",
    "    result = regr.predict(new_test)\n",
    "    score = mean_squared_error(result, test_outcome)        \n",
    "    if score < score_min:\n",
    "        score_min = score\n",
    "    print(\"n={}, MSE = {:<0.5}\".format(order, score))"
   ]
  },
  {
   "cell_type": "code",
   "execution_count": 6,
   "metadata": {},
   "outputs": [
    {
     "name": "stdout",
     "output_type": "stream",
     "text": [
      "Mean squared error =  121.66124856921716\n"
     ]
    }
   ],
   "source": [
    "poly = PolynomialFeatures(degree = 2)\n",
    "regr = linear_model.LinearRegression()\n",
    "new_train = poly.fit_transform(train_features)\n",
    "regr.fit(new_train, train_outcome)\n",
    "result = regr.predict(new_train)\n",
    "score = mean_squared_error(result, train_outcome)\n",
    "print(\"Mean squared error = \", score)"
   ]
  },
  {
   "cell_type": "code",
   "execution_count": 7,
   "metadata": {},
   "outputs": [
    {
     "name": "stdout",
     "output_type": "stream",
     "text": [
      "Mean squared error =  161.33856369693044\n"
     ]
    }
   ],
   "source": [
    "new_test = poly.fit_transform(test_features)\n",
    "result = regr.predict(new_test)\n",
    "score = mean_squared_error(result, test_outcome)\n",
    "print(\"Mean squared error = \", score)"
   ]
  },
  {
   "cell_type": "code",
   "execution_count": 8,
   "metadata": {},
   "outputs": [],
   "source": [
    "p2 = regr.predict(poly.fit_transform(delay.drop(\"avg_delay\", axis=1)))\n",
    "delay['prediction'] = p2"
   ]
  },
  {
   "cell_type": "code",
   "execution_count": 9,
   "metadata": {},
   "outputs": [],
   "source": [
    "import seaborn as sns"
   ]
  },
  {
   "cell_type": "code",
   "execution_count": 10,
   "metadata": {},
   "outputs": [
    {
     "name": "stderr",
     "output_type": "stream",
     "text": [
      "C:\\Users\\liang\\Anaconda3\\lib\\site-packages\\scipy\\stats\\stats.py:1713: FutureWarning: Using a non-tuple sequence for multidimensional indexing is deprecated; use `arr[tuple(seq)]` instead of `arr[seq]`. In the future this will be interpreted as an array index, `arr[np.array(seq)]`, which will result either in an error or a different result.\n",
      "  return np.add.reduce(sorted[indexer] * weights, axis=axis) / sumval\n"
     ]
    },
    {
     "data": {
      "text/plain": [
       "Text(0.5, 0.98, 'Polynomial model fit')"
      ]
     },
     "execution_count": 10,
     "metadata": {},
     "output_type": "execute_result"
    },
    {
     "data": {
      "image/png": "[encoded data removed]",
      "text/plain": [
       "<Figure size 432x288 with 1 Axes>"
      ]
     },
     "metadata": {
      "needs_background": "light"
     },
     "output_type": "display_data"
    }
   ],
   "source": [
    "sns.regplot(delay.avg_delay, delay.prediction, data=delay, order=2)\n",
    "plt.xlabel('Average delays (min)', fontsize = 15)\n",
    "plt.ylabel('Predictions (min)', fontsize = 15)\n",
    "plt.suptitle(\"Polynomial model fit\")"
   ]
  },
  {
   "cell_type": "code",
   "execution_count": 11,
   "metadata": {},
   "outputs": [
    {
     "name": "stdout",
     "output_type": "stream",
     "text": [
      "0.12079602412939194\n"
     ]
    }
   ],
   "source": [
    "d_res = delay.avg_delay-delay.prediction\n",
    "SSresid = sum(pow(d_res, 2))\n",
    "SStotal = len(delay.avg_delay) * np.var(delay.avg_delay)\n",
    "r_sqr = 1 - SSresid / SStotal\n",
    "print(r_sqr)"
   ]
  },
  {
   "cell_type": "code",
   "execution_count": 12,
   "metadata": {},
   "outputs": [],
   "source": [
    "from sklearn.metrics import mean_absolute_error"
   ]
  },
  {
   "cell_type": "code",
   "execution_count": 14,
   "metadata": {},
   "outputs": [
    {
     "data": {
      "text/plain": [
       "6.752893841905367"
      ]
     },
     "execution_count": 14,
     "metadata": {},
     "output_type": "execute_result"
    }
   ],
   "source": [
    "mean_absolute_error(delay.prediction, delay.avg_delay)"
   ]
  },
  {
   "cell_type": "code",
   "execution_count": 15,
   "metadata": {},
   "outputs": [
    {
     "data": {
      "text/plain": [
       "133.5674611588847"
      ]
     },
     "execution_count": 15,
     "metadata": {},
     "output_type": "execute_result"
    }
   ],
   "source": [
    "mean_squared_error(delay.prediction, delay.avg_delay)"
   ]
  }
 ],
 "metadata": {
  "kernelspec": {
   "display_name": "Python 3",
   "language": "python",
   "name": "python3"
  },
  "language_info": {
   "codemirror_mode": {
    "name": "ipython",
    "version": 3
   },
   "file_extension": ".py",
   "mimetype": "text/x-python",
   "name": "python",
   "nbconvert_exporter": "python",
   "pygments_lexer": "ipython3",
   "version": "3.7.1"
  }
 },
 "nbformat": 4,
 "nbformat_minor": 2
}
