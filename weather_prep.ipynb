{
 "cells": [
  {
   "cell_type": "code",
   "execution_count": 127,
   "metadata": {},
   "outputs": [],
   "source": [
    "import numpy as np\n",
    "import pandas as pd"
   ]
  },
  {
   "cell_type": "code",
   "execution_count": null,
   "metadata": {},
   "outputs": [],
   "source": [
    "# import weather dataset and select relevant columns\n",
    "weather = pd.read_csv('weather.csv', index_col=False)\n",
    "weather = weather[['HourlyStationPressure','HourlyPressureChange','HourlyPressureTendency', 'HourlyVisibility',\n",
    "                   'HourlyWindSpeed', 'HourlySkyConditions', 'HourlyPrecipitation', 'HourlyWetBulbTemperature',\n",
    "                   'HourlyWindDirection', 'HourlyRelativeHumidity']]\n",
    "\n",
    "\n",
    "# handle non-numeric values: change those values to NaN and forward fill later\n",
    "weather.HourlyStationPressure = pd.to_numeric(weather.HourlyStationPressure, errors='coerce')\n",
    "weather.HourlyVisibility = pd.to_numeric(weather.HourlyVisibility, errors='coerce')\n",
    "weather.HourlyPrecipitation = pd.to_numeric(weather.HourlyPrecipitation, errors='coerce')\n",
    "weather.HourlyWindDirection = pd.to_numeric(weather.HourlyWindDirection, errors='coerce')\n",
    "\n",
    "# convert na values to 0 (no pressure change)\n",
    "weather.HourlyPressureChange = np.nan_to_num(weather.HourlyPressureChange)\n",
    "weather.HourlyPressureTendency = np.nan_to_num(weather.HourlyPressureTendency)\n",
    "\n",
    "# transform sky conditions to two dummy columns: cloud_1 == 1 for overcast sky, cloud_0 == 1 for clear sky\n",
    "weather['cloud_1'] = 0\n",
    "weather['cloud_0'] = 1\n",
    "weather.HourlySkyConditions = weather.HourlySkyConditions.fillna(method='ffill')\n",
    "for i in range(0, len(weather)):\n",
    "    v = weather.HourlySkyConditions[i]\n",
    "    if ':08 ' in v or ':09 ' in v or ':10 ' in v:\n",
    "        weather.cloud_1[i] = 1\n",
    "        weather.cloud_0[i] = 0\n",
    "\n",
    "\n",
    "# transform wind direction to four dummie columns: wind_north, wind_east, wind_south, wind_west\n",
    "weather['wind_north'] = 0\n",
    "weather['wind_east'] = 0\n",
    "weather['wind_south'] = 0\n",
    "weather['wind_west'] = 0\n",
    "weather.HourlyWindDirection = weather.HourlyWindDirection.fillna(method='ffill')\n",
    "for i in range(0, len(weather)):\n",
    "    d = weather.HourlyWindDirection[i]\n",
    "    if d > 315 or d <= 45:\n",
    "        weather.wind_north[i] = 1\n",
    "    elif d > 225 and d <= 315:\n",
    "        weather.wind_west[i] = 1\n",
    "    elif d >135 and d <= 225:\n",
    "        weather.wind_south[i] = 1\n",
    "    else:\n",
    "        weather.wind_east[i] = 1\n",
    "\n",
    "# forward fill the other columns, assume weather doesn't change in an hour\n",
    "weather = weather.fillna(method='ffill')"
   ]
  }
 ],
 "metadata": {
  "kernelspec": {
   "display_name": "Python 3",
   "language": "python",
   "name": "python3"
  },
  "language_info": {
   "codemirror_mode": {
    "name": "ipython",
    "version": 3
   },
   "file_extension": ".py",
   "mimetype": "text/x-python",
   "name": "python",
   "nbconvert_exporter": "python",
   "pygments_lexer": "ipython3",
   "version": "3.7.1"
  }
 },
 "nbformat": 4,
 "nbformat_minor": 2
}
