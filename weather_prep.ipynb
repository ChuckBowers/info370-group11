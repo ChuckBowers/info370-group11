{
 "cells": [
  {
   "cell_type": "code",
   "execution_count": 10,
   "metadata": {},
   "outputs": [],
   "source": [
    "import numpy as np\n",
    "import pandas as pd"
   ]
  },
  {
   "cell_type": "code",
   "execution_count": null,
   "metadata": {},
   "outputs": [
    {
     "name": "stderr",
     "output_type": "stream",
     "text": [
      "C:\\Users\\bower\\Anaconda3\\lib\\site-packages\\IPython\\core\\interactiveshell.py:3020: DtypeWarning: Columns (34,51,76,89) have mixed types. Specify dtype option on import or set low_memory=False.\n",
      "  interactivity=interactivity, compiler=compiler, result=result)\n",
      "C:\\Users\\bower\\Anaconda3\\lib\\site-packages\\ipykernel_launcher.py:30: SettingWithCopyWarning: \n",
      "A value is trying to be set on a copy of a slice from a DataFrame\n",
      "\n",
      "See the caveats in the documentation: http://pandas.pydata.org/pandas-docs/stable/indexing.html#indexing-view-versus-copy\n",
      "C:\\Users\\bower\\Anaconda3\\lib\\site-packages\\ipykernel_launcher.py:31: SettingWithCopyWarning: \n",
      "A value is trying to be set on a copy of a slice from a DataFrame\n",
      "\n",
      "See the caveats in the documentation: http://pandas.pydata.org/pandas-docs/stable/indexing.html#indexing-view-versus-copy\n"
     ]
    }
   ],
   "source": [
    "# import weather dataset and select relevant columns\n",
    "weather_2018 = pd.read_csv('data-raw/weather_2018.csv', index_col=False)\n",
    "weather_dec_2017 = pd.read_csv('data-raw/weather_dec_2017.csv', index_col=False)\n",
    "weather = pd.concat([weather_dec_2017, weather_2018])\n",
    "weather = weather[['DATE', 'HourlyAltimeterSetting', 'HourlyDewPointTemperature', 'HourlyDryBulbTemperature', \n",
    "                   'HourlySeaLevelPressure', 'HourlyStationPressure', 'HourlyPressureChange', 'HourlyPressureTendency', \n",
    "                   'HourlyVisibility', 'HourlyWindSpeed', 'HourlySkyConditions', 'HourlyPrecipitation', \n",
    "                   'HourlyWetBulbTemperature', 'HourlyWindDirection', 'HourlyRelativeHumidity']]\n",
    "\n",
    "\n",
    "# handle non-numeric values: change those values to NaN and forward fill later\n",
    "weather.HourlyStationPressure = pd.to_numeric(weather.HourlyStationPressure, errors='coerce')\n",
    "weather.HourlyVisibility = pd.to_numeric(weather.HourlyVisibility, errors='coerce')\n",
    "weather.HourlyPrecipitation = pd.to_numeric(weather.HourlyPrecipitation, errors='coerce')\n",
    "weather.HourlyWindDirection = pd.to_numeric(weather.HourlyWindDirection, errors='coerce')\n",
    "weather.HourlyAltimeterSetting = pd.to_numeric(weather.HourlyAltimeterSetting, errors='coerce')\n",
    "weather.HourlySeaLevelPressure = pd.to_numeric(weather.HourlySeaLevelPressure, errors='coerce')\n",
    "\n",
    "# convert na values to 0 (no pressure change)\n",
    "weather.HourlyPressureChange = np.nan_to_num(weather.HourlyPressureChange)\n",
    "weather.HourlyPressureTendency = np.nan_to_num(weather.HourlyPressureTendency)\n",
    "\n",
    "# transform sky conditions to two dummy columns: cloud_1 == 1 for overcast sky, cloud_0 == 1 for clear sky\n",
    "weather['cloud_1'] = 0\n",
    "weather['cloud_0'] = 1\n",
    "weather.HourlySkyConditions = weather.HourlySkyConditions.fillna(method='ffill')\n",
    "for i in range(0, len(weather)):\n",
    "    v = weather.HourlySkyConditions[i]\n",
    "    if ':08 ' in v or ':09 ' in v or ':10 ' in v:\n",
    "        weather.cloud_1[i] = 1\n",
    "        weather.cloud_0[i] = 0\n",
    "\n",
    "\n",
    "# transform wind direction to four dummie columns: wind_north, wind_east, wind_south, wind_west\n",
    "weather['wind_north'] = 0\n",
    "weather['wind_east'] = 0\n",
    "weather['wind_south'] = 0\n",
    "weather['wind_west'] = 0\n",
    "weather.HourlyWindDirection = weather.HourlyWindDirection.fillna(method='ffill')\n",
    "for i in range(0, len(weather)):\n",
    "    d = weather.HourlyWindDirection[i]\n",
    "    if d > 315 or d <= 45:\n",
    "        weather.wind_north[i] = 1\n",
    "    elif d > 225 and d <= 315:\n",
    "        weather.wind_west[i] = 1\n",
    "    elif d >135 and d <= 225:\n",
    "        weather.wind_south[i] = 1\n",
    "    else:\n",
    "        weather.wind_east[i] = 1\n",
    "\n",
    "# forward fill the other columns, assume weather doesn't change in an hour\n",
    "weather = weather.fillna(method='ffill')"
   ]
  },
  {
   "cell_type": "code",
   "execution_count": 13,
   "metadata": {},
   "outputs": [
    {
     "data": {
      "text/plain": [
       "pandas.core.frame.DataFrame"
      ]
     },
     "execution_count": 13,
     "metadata": {},
     "output_type": "execute_result"
    }
   ],
   "source": []
  },
  {
   "cell_type": "code",
   "execution_count": null,
   "metadata": {},
   "outputs": [],
   "source": []
  }
 ],
 "metadata": {
  "kernelspec": {
   "display_name": "Python 3",
   "language": "python",
   "name": "python3"
  },
  "language_info": {
   "codemirror_mode": {
    "name": "ipython",
    "version": 3
   },
   "file_extension": ".py",
   "mimetype": "text/x-python",
   "name": "python",
   "nbconvert_exporter": "python",
   "pygments_lexer": "ipython3",
   "version": "3.7.1"
  }
 },
 "nbformat": 4,
 "nbformat_minor": 2
}
